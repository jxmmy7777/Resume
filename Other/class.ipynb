{
 "cells": [
  {
   "cell_type": "code",
   "execution_count": null,
   "metadata": {},
   "outputs": [],
   "source": [
    "class coordinate(object):\n",
    "    \n",
    "    data =[1,2,3,4,5,6,7,8,9]\n",
    "    def __init__(self,x=None,y=None):\n",
    "        self.x = x\n",
    "        self.y = y\n",
    "    def __str__ (self):\n",
    "        return \"(\"+str(self.x)+\",\"+str(self.y)+\")\"\n",
    "    def get_color(self):\n",
    "        return self.color\n",
    "    def set_color(self,color=\"\"):\n",
    "        self.color = color\n",
    "    def __getitem__(self, index):\n",
    "        return self.data[index]\n",
    "    #slicing is kinda indexing\n",
    "        "
   ]
  },
  {
   "cell_type": "code",
   "execution_count": null,
   "metadata": {},
   "outputs": [],
   "source": [
    "c = coordinate()\n",
    "c.set_color(\"y\")\n",
    "\n",
    "print c.get_color(),c[1:2:2]"
   ]
  },
  {
   "cell_type": "code",
   "execution_count": null,
   "metadata": {},
   "outputs": [],
   "source": [
    "print c.__dict__"
   ]
  },
  {
   "cell_type": "code",
   "execution_count": null,
   "metadata": {},
   "outputs": [],
   "source": [
    "print corrdinate.display\n"
   ]
  },
  {
   "cell_type": "code",
   "execution_count": null,
   "metadata": {},
   "outputs": [],
   "source": [
    "class female():\n",
    "    gender= \"female\"   #automatically iherent the variable\n",
    "    def __init__(self, name = None):  #compile first automatic\n",
    "        self.name = name\n",
    "        \n",
    "\n",
    "        \n",
    "g1 = female(\"Nacy\")\n",
    "print g1.gender\n",
    "print g1.name"
   ]
  },
  {
   "cell_type": "code",
   "execution_count": null,
   "metadata": {},
   "outputs": [],
   "source": [
    "class A(object):\n",
    "    def __init__(self, x):\n",
    "        self.x = x\n",
    "    def __eq__(self, other):\n",
    "        return (isinstance(other, A) and (self.x == other.x))\n",
    "a1 = A(5)\n",
    "a2 = A(5)\n",
    "\n",
    "print(a1 == a2)  # True\n",
    "print(a1 == 99)  # False "
   ]
  },
  {
   "cell_type": "code",
   "execution_count": null,
   "metadata": {},
   "outputs": [],
   "source": [
    "class A(object):\n",
    "    def __init__(self, x):\n",
    "        self.x = x\n",
    "    def __repr__(self):\n",
    "        return \"A(x=%d)\" % self.x\n",
    "a = A(5)\n",
    "print(a) # prints A(x=5) (better)\n",
    "print([a]) # [A(x=5)]"
   ]
  },
  {
   "cell_type": "code",
   "execution_count": null,
   "metadata": {},
   "outputs": [],
   "source": [
    "from fractions import Fraction\n",
    "class Fraction():\n",
    "    def __init__(self, numerator = None, dedominator = None):\n",
    "        self.num = numerator\n",
    "        self.domi = dedominator\n",
    "    \n",
    "    def __repr__(self):\n",
    "        return \"%s/%s\"%(self.num,self.domi)\n",
    "    \n",
    "    def __div__(self, other):\n",
    "        return self.num*other.domi,self.domi*other.num\n",
    "    \n",
    "    def __add__(self, other):\n",
    "        return self.num*other.domi+self.domi*other.num, self.domi*other.domi\n",
    "    def __sub__(self, other):\n",
    "        return \"%d/%d\" %(self.num*other.domi-self.domi*other.num, self.domi*other.domi)\n",
    "    \n",
    "    def __eq__(self, other):\n",
    "        newup = self.num*other.num\n",
    "        newdown = self.domi*self.domi\n",
    "        return newup==newdown\n",
    "    def simple(self):\n",
    "        top =self.num\n",
    "        bot =self.domi \n",
    "        while top%bot!=0:\n",
    "            top, bot = bot, top%bot\n",
    "        return \"%d/%d\" %(self.num/bot, self.domi /bot)\n",
    "        "
   ]
  },
  {
   "cell_type": "code",
   "execution_count": null,
   "metadata": {},
   "outputs": [],
   "source": [
    "a = Fraction(100,24)\n",
    "b = Fraction(4,3)\n",
    "print a.simple(), b\n",
    "#a/b\n",
    "#a+b\n",
    "#a==b"
   ]
  },
  {
   "cell_type": "code",
   "execution_count": 30,
   "metadata": {},
   "outputs": [],
   "source": [
    "from os import listdir, walk\n",
    "from os.path import isfile, isdir, join, getsize, realpath\n",
    "\n",
    "\n",
    "class find(object):\n",
    "    \n",
    "    def __init__(self, path):\n",
    "        lis = []\n",
    "        if isdir(path):\n",
    "            for i in listdir(path):\n",
    "                fullpath = join(path, i)\n",
    "                lis.append(fullpath)\n",
    "            self.path = lis\n",
    "        elif isfile(path):\n",
    "            self.path = [path]\n",
    "    \n",
    "    def trace(fn):\n",
    "        def wrapped(x):\n",
    "            print('-> ', fn, '(', x, ')')\n",
    "            return fn(x)\n",
    "        return wrapped\n",
    "    \n",
    "    @trace\n",
    "    def Mx(self):\n",
    "        S = []\n",
    "\n",
    "        for path in self.path:\n",
    "            if isfile(path):\n",
    "                size = getsize(path)\n",
    "                S.append((size, path))\n",
    "            if isdir(path):\n",
    "                if listdir(path)!=[]:\n",
    "                    a = find(path)\n",
    "                    local_Mx = a.Mx\n",
    "                    S.append(local_Mx)\n",
    "                else:\n",
    "                    return\n",
    "        if S!=[]:\n",
    "            self.Mxvalue = max(S)                \n",
    "            return self.Mxvalue\n",
    "\n",
    "   # def trace(self, path):\n",
    "    #    for root, dirs, files in walk(path):\n",
    "    #        print(\"root\", root)\n",
    "     #       print(\"dirs\", dirs)\n",
    "     #       print(\"files\", files) \n",
    "        "
   ]
  },
  {
   "cell_type": "code",
   "execution_count": 31,
   "metadata": {},
   "outputs": [
    {
     "name": "stdout",
     "output_type": "stream",
     "text": [
      "('-> ', <function Mx at 0x0440BD70>, '(', <__main__.find object at 0x0336E430>, ')')\n",
      "(24726L, '\\\\Users\\\\chao\\\\Desktop\\\\Nick\\\\Untitled.ipynb')\n"
     ]
    }
   ],
   "source": [
    "a = find(\"\\Users\\chao\\Desktop\\Nick\")\n",
    "print a.Mx()"
   ]
  },
  {
   "cell_type": "code",
   "execution_count": 32,
   "metadata": {},
   "outputs": [],
   "source": [
    "class FibTree(object):\n",
    "    def __init__(self, n):\n",
    "        self.n = n\n",
    "        if n < 2:\n",
    "            self.value = n\n",
    "        else:\n",
    "            self.left = FibTree(n - 1)\n",
    "            self.right = FibTree(n - 2)\n",
    "            self.value = self.left.value + self.right.value\n",
    "\n",
    "    def __repr__(self):\n",
    "        return \"%d\" %(self.value)\n",
    "    \n",
    "    def trace(self, n):\n",
    "        if n<self.n:\n",
    "              self.left.trace(n)\n",
    "        elif n>self.right\n",
    "        \n",
    "        else:\n",
    "              raise \"it should smaller than %d\" %(self.n)\n",
    "              \n",
    "    \n",
    "    \n",
    "    \n",
    "    \n",
    "    def insertFibonacci(self, n):\n",
    "        current = self.addNode(n)\n",
    "        if n > 1:\n",
    "            current.left = self.insertFibonacci(n-1)\n",
    "            current.right = self.insertFibonacci(n-2)\n",
    "        # if you want the fibonacci numbers instead of the calls:\n",
    "        # current.value = current.left.value + current.right.value\n",
    "        return current"
   ]
  },
  {
   "cell_type": "code",
   "execution_count": 33,
   "metadata": {},
   "outputs": [
    {
     "name": "stdout",
     "output_type": "stream",
     "text": [
      "6765\n"
     ]
    }
   ],
   "source": [
    "a = FibTree(20)\n",
    "print a"
   ]
  },
  {
   "cell_type": "code",
   "execution_count": null,
   "metadata": {},
   "outputs": [],
   "source": []
  },
  {
   "cell_type": "code",
   "execution_count": 27,
   "metadata": {},
   "outputs": [
    {
     "name": "stdout",
     "output_type": "stream",
     "text": [
      "2\n",
      "1\n",
      "2\n",
      "4\n",
      "2\n",
      "9\n",
      "2\n",
      "16\n",
      "2\n",
      "25\n",
      "2\n",
      "36\n",
      "2\n",
      "49\n",
      "2\n",
      "64\n",
      "2\n",
      "81\n",
      "2\n",
      "100\n"
     ]
    }
   ],
   "source": [
    "class Squares:\n",
    "    def __init__(self, start, stop):                 # Non-yield generator \n",
    "        self.start = start                           # Multi scans: extra object\n",
    "        self.stop  = stop\n",
    "    def __iter__(self):\n",
    "        return SquaresIter(self.start, self.stop)\n",
    "\n",
    "class SquaresIter:\n",
    "    def __init__(self, start, stop):\n",
    "        self.value = start - 1\n",
    "        self.stop  = stop\n",
    "    def next(self):\n",
    "        if self.value == self.stop:\n",
    "            raise StopIteration\n",
    "        self.value += 1\n",
    "        print 2\n",
    "        return self.value ** 2\n",
    "\n",
    "for i in Squares(1,10):\n",
    "   \n",
    "    print i"
   ]
  },
  {
   "cell_type": "code",
   "execution_count": null,
   "metadata": {},
   "outputs": [],
   "source": [
    "class A(object):\n",
    "    def __init__(self, x):\n",
    "        self.x = x\n",
    "    def __hash__(self):\n",
    "        return hash(self.x)\n",
    "    def __eq__(self, other):\n",
    "        return (isinstance(other, A) and (self.x == other.x))\n",
    "\n",
    "s = set()\n",
    "s.add(A(5))\n",
    "print(A(5) in s) # True (whew!)"
   ]
  },
  {
   "cell_type": "code",
   "execution_count": null,
   "metadata": {},
   "outputs": [],
   "source": [
    "class car(object):\n",
    "    def __init__(self, car_type, car_color):\n",
    "        self.color = car_color\n",
    "        self.type = car_type\n",
    "        \n",
    "class toyota(car):\n",
    "    def __init__(self, typ, color):\n",
    "        super(toyota, self).__init__(typ, color)\n",
    "        car.__init__(0)\n",
    "    @staticmethod\n",
    "    def drive(x, y):\n",
    "        if x>0 and y>0:\n",
    "            a = x*y    \n",
    "            return toyota.drive(x-1, y-1)+a\n",
    "        else:\n",
    "            return 0\n",
    "\n",
    "    \n",
    "o = toyota(\"super\", \"Red\")\n",
    "toyota.drive(5,4)"
   ]
  },
  {
   "cell_type": "code",
   "execution_count": 39,
   "metadata": {},
   "outputs": [
    {
     "name": "stdout",
     "output_type": "stream",
     "text": [
      "2 10\n"
     ]
    }
   ],
   "source": [
    "class binary_tree:\n",
    "    def __init__(self, data):\n",
    "        self.data = data\n",
    "        self.left = None\n",
    "        self.right = None\n",
    "        \n",
    "    def insert(self, data):\n",
    "        if self.data:\n",
    "            if data<self.data:\n",
    "                if self.left:\n",
    "                    self.left.insert(data)\n",
    "                else:\n",
    "                    self.left = binary_tree(data)\n",
    "                if data>self.data:\n",
    "                    if self.right:\n",
    "                        self.right.insert(data)\n",
    "                    else:\n",
    "                        self.right = binary_tree(data)\n",
    "                                        \n",
    "        else:\n",
    "            self.data = data\n",
    "            \n",
    "    def look_up(self, data, parent = None):\n",
    "        \n",
    "        if self.data:\n",
    "            if data<self.data:\n",
    "                if self.left is None:\n",
    "                    return None, None\n",
    "\n",
    "                return self.left.look_up(data,self)\n",
    "                \n",
    "            elif data > self.data:\n",
    "                if self.right is None:\n",
    "                    return None, None\n",
    "\n",
    "                return self.right.look_up(data,self)\n",
    "            else:\n",
    "                return self, parent\n",
    "        else:\n",
    "            return \"No Root!!\"\n",
    "        \n",
    "    def __call__(self):\n",
    "        return str(self)\n",
    "        \n",
    "    def prt(self): \n",
    "        if self.left:\n",
    "            self.left.prt()\n",
    "        print self, \n",
    "        if self.right:\n",
    "            self.right.prt()\n",
    "    def __repr__(self):\n",
    "        return \"%d\" %(self.data)\n",
    "root = binary_tree(10)\n",
    "root.insert(2)\n",
    "root.insert(21)\n",
    "root.insert(22)\n",
    "root.insert(25)\n",
    "root.insert(6)\n",
    "root.insert(10)\n",
    "self, parent =root.look_up(25)\n",
    "root.prt()\n"
   ]
  },
  {
   "cell_type": "code",
   "execution_count": 19,
   "metadata": {},
   "outputs": [
    {
     "name": "stdout",
     "output_type": "stream",
     "text": [
      "<__main__.binary_tree instance at 0x043EE710> <__main__.binary_tree instance at 0x043EE6C0>\n"
     ]
    }
   ],
   "source": [
    "self, parent = root.look_up(data =2)\n",
    "print self(), parent()"
   ]
  },
  {
   "cell_type": "code",
   "execution_count": 2,
   "metadata": {},
   "outputs": [],
   "source": []
  },
  {
   "cell_type": "code",
   "execution_count": null,
   "metadata": {},
   "outputs": [],
   "source": []
  }
 ],
 "metadata": {
  "kernelspec": {
   "display_name": "Python 2",
   "language": "python",
   "name": "python2"
  },
  "language_info": {
   "codemirror_mode": {
    "name": "ipython",
    "version": 2
   },
   "file_extension": ".py",
   "mimetype": "text/x-python",
   "name": "python",
   "nbconvert_exporter": "python",
   "pygments_lexer": "ipython2",
   "version": "2.7.13"
  }
 },
 "nbformat": 4,
 "nbformat_minor": 2
}
