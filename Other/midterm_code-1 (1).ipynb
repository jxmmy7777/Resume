{
 "cells": [
  {
   "cell_type": "code",
   "execution_count": null,
   "metadata": {
    "collapsed": true
   },
   "outputs": [],
   "source": [
    "#https://www.youtube.com/user/AlgoRythmics/videos?disable_polymer=1\n",
    "#this clip elaborates some of the sorting ideas"
   ]
  },
  {
   "cell_type": "code",
   "execution_count": null,
   "metadata": {
    "collapsed": true
   },
   "outputs": [],
   "source": [
    "#buuble sorting\n",
    "def bubble_sort(a):\n",
    "    count = True\n",
    "    while count:\n",
    "        count = False #if no exchange during the loop, count will remain false\n",
    "        for i in range(len(a)-1):\n",
    "            if a[i]>a[i+1]:\n",
    "                a[i], a[i+1] = a[i+1], a[i]\n",
    "                count = True\n",
    "    return a\n",
    "  \n",
    "a =[5,4,3,2,1]\n",
    "bubble_sort(a)"
   ]
  },
  {
   "cell_type": "code",
   "execution_count": null,
   "metadata": {},
   "outputs": [],
   "source": [
    "#selecting the minimum sort\n",
    "def selecting_sort(b):\n",
    "    min_n = b[0]\n",
    "    for i in range(1,len(b)):  #start from b[1]\n",
    "        if b[i] < min_n:\n",
    "            min_n,b[i] = b[i], min_n\n",
    "            \n",
    "    b[0] = min_n\n",
    "    return [b[0]]+(selecting_sort(b[1:]) if len(b)>1 else b[1:]) \n",
    "    #we have to make sure that len(b)>1. Otherwise, the  index will out of range.\n",
    "b =[5,4,3,2,1]\n",
    "selecting_sort(b)   "
   ]
  },
  {
   "cell_type": "code",
   "execution_count": 15,
   "metadata": {},
   "outputs": [
    {
     "data": {
      "text/plain": [
       "[1, 2, 3, 4, 5]"
      ]
     },
     "execution_count": 15,
     "metadata": {},
     "output_type": "execute_result"
    }
   ],
   "source": [
    "#insertion into previous sort\n",
    "def insertion_sort(c):\n",
    "    for k in range(len(c)-1):\n",
    "        if c[k+1]<c[k]:\n",
    "            c[k+1], c[k] = c[k], c[k+1]\n",
    "            c = (insertion_sort(c[:k+1]) if len(c[:k+1])>1 else c[:k+1])+c[k+1:]\n",
    "            #if after exchanging, there are still numbers behind\n",
    "            #put it in recursive until it is len(c[:k+1])==1\n",
    "    return c    \n",
    "            \n",
    "            \n",
    "    \n",
    "    \n",
    "    \n",
    "c =[5,4,3,2,1]\n",
    "insertion_sort(c)"
   ]
  },
  {
   "cell_type": "code",
   "execution_count": null,
   "metadata": {},
   "outputs": [],
   "source": [
    "def insertionSort(alist):\n",
    "    for i in range(1,len(alist)):\n",
    "        current=alist[i]\n",
    "        pos=i\n",
    "        while alist[pos-1]>current and pos>0:\n",
    "            alist[pos]=alist[pos-1]\n",
    "            pos=pos-1\n",
    "        alist[pos]=current\n",
    "\n",
    "\n",
    "alist = [54,26,93,17,77,31,44,55,20]\n",
    "insertionSort(alist)\n",
    "print(alist)"
   ]
  },
  {
   "cell_type": "code",
   "execution_count": null,
   "metadata": {
    "collapsed": true
   },
   "outputs": [],
   "source": [
    "#merge one by one sort\n",
    "def merge_sort(d):\n",
    "    if len(d)>2:\n",
    "        sep = len(d)//2\n",
    "        left = merge_sort(d[:sep])  #cut it into either 1 or 2\n",
    "        right = merge_sort(d[sep:])\n",
    "        e = []\n",
    "        i = 0\n",
    "        j = 0\n",
    "        while i<len(left) and j<len(right):  #pick the first one\n",
    "            if left[i]>=right[j]:  #hold the one that is bigger\n",
    "                e.append(right[j])  #append the smaller one\n",
    "                j+=1  #use next item to compare with the bigger one\n",
    "            elif left[i]<right[j]: \n",
    "                e.append(left[i])\n",
    "                i+=1\n",
    "        if j ==len(right):  #since there might be odd+even, we have to add the remain\n",
    "            e.extend(left[i:])\n",
    "        elif i ==len(left):\n",
    "            e.extend(right[j:])\n",
    "        return e\n",
    "                    \n",
    "    elif len(d) == 2:\n",
    "        d[0], d[1] = min(d), max(d)\n",
    "        return d\n",
    "    elif len(d) == 1:\n",
    "        return d\n",
    "d =[5,4,2,1]\n",
    "merge_sort(d)"
   ]
  },
  {
   "cell_type": "code",
   "execution_count": null,
   "metadata": {
    "collapsed": true
   },
   "outputs": [],
   "source": [
    "#quick pivot sort \n",
    "def quick_sort(f):\n",
    "    if len(f)>1:\n",
    "        pivot = f[0]  #choose pivot\n",
    "        f_re = f[1:]\n",
    "        left = []\n",
    "        right = []\n",
    "        for i in f_re:\n",
    "            if i<pivot:  #smaller in left\n",
    "                left.append(i)\n",
    "            elif i>=pivot:  #bigger in right\n",
    "                right.append(i)\n",
    "        return quick_sort(left)+[pivot]+quick_sort(right)  \n",
    "        #do it recursively until its empty or 1\n",
    "    elif len(f)==1:\n",
    "        return f\n",
    "    elif len(f)==0:\n",
    "        return []\n",
    "e =[5,4,2,1]\n",
    "quick_sort(e)\n",
    "        "
   ]
  },
  {
   "cell_type": "code",
   "execution_count": null,
   "metadata": {
    "collapsed": true
   },
   "outputs": [],
   "source": [
    "#binary search\n",
    "def binary_search(g,h,index):\n",
    "    if len(g)>0: #if len(g)==1, it will be sliced into [].\n",
    "        sep = len(g)//2\n",
    "        middle = g[sep]\n",
    "        if h==middle:\n",
    "            return g.index(h)+index \n",
    "        elif h>middle: #1\n",
    "            index = binary_search(g[sep+1:],h,index+len(g[:sep+1]))\n",
    "            # h is on the left which is bigger. \n",
    "            #Also, we need to add the previous indexes\n",
    "            return index\n",
    "        elif h<middle:  #2\n",
    "            index = binary_search(g[:sep],h,index)\n",
    "            return index\n",
    "    elif len(g)==0:\n",
    "        return \"not in the list\"\n",
    "\n",
    "g =[1,2,4,5,6]\n",
    "h = 2\n",
    "index = 0\n",
    "binary_search(g,h,index)\n",
    "    "
   ]
  },
  {
   "cell_type": "code",
   "execution_count": null,
   "metadata": {},
   "outputs": [],
   "source": [
    "def binary_search(list,num):\n",
    "    low = 0\n",
    "    high = len(list)-1 \n",
    "    while low <= high: #\n",
    "        mid = (low+high)//2\n",
    "        guess = list[mid]\n",
    "        if guess == num:\n",
    "            return mid  #最後找到的數會是mid\n",
    "        elif guess>num:\n",
    "            high = mid - 1\n",
    "        else:\n",
    "            low = mid + 1 #low變成原本的mid往右移一格\n",
    "    return None\n",
    "    print binary_search(list,mid)  \n",
    "my_list = [1,3,5,7,9]\n",
    "binary_search(my_list,5)"
   ]
  },
  {
   "cell_type": "code",
   "execution_count": null,
   "metadata": {
    "collapsed": true
   },
   "outputs": [],
   "source": [
    "#flatten code\n",
    "import sys\n",
    "\n",
    "def data_process(argv): #input should be [1,2,2..]\n",
    "    lis = (sys.argv[1])     \n",
    "    lis = lis[1:len(lis)-1]\n",
    "    lis = lis.split(\",\")\n",
    "    flatten_lis = flatten(lis)\n",
    "    #print flatten_lis\n",
    "    return find_frequent(flatten_lis)\n",
    "\n",
    "def flatten(lis):\n",
    "    blank_lis = []\n",
    "    if len(lis) ==0:\n",
    "        return []\n",
    "    else:\n",
    "        for i in lis:\n",
    "            if type(i) ==list:\n",
    "                blank_lis += flatten(i)\n",
    "            else:\n",
    "                blank_lis += [i]\n",
    "        return blank_lis\n",
    "\n",
    "def find_frequent(a):\n",
    "    dic = dict(zip(set(a), (a.count(item) for item in set(a))))#{1: 1, 2: 2,...}\n",
    "    max_n = max(dic.values())\n",
    "    for i in dic.keys(): #i is string\n",
    "        if dic[i]==max_n: #dic[i] is integer\n",
    "            print \"number %s appears %d\" %(i, dic[i])\n",
    "\n",
    "if __name__ ==\"__main__\":\n",
    "    data_process(sys.argv)\n",
    "\n"
   ]
  }
 ],
 "metadata": {
  "kernelspec": {
   "display_name": "Python 2",
   "language": "python",
   "name": "python2"
  },
  "language_info": {
   "codemirror_mode": {
    "name": "ipython",
    "version": 2
   },
   "file_extension": ".py",
   "mimetype": "text/x-python",
   "name": "python",
   "nbconvert_exporter": "python",
   "pygments_lexer": "ipython2",
   "version": "2.7.13"
  }
 },
 "nbformat": 4,
 "nbformat_minor": 2
}
